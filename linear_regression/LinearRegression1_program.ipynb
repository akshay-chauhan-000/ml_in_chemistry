{
  "cells": [
    {
      "cell_type": "markdown",
      "id": "spoken-treasury",
      "metadata": {
        "id": "spoken-treasury"
      },
      "source": [
        "# Linear Regression"
      ]
    },
    {
      "cell_type": "code",
      "execution_count": 1,
      "id": "changing-greensboro",
      "metadata": {
        "id": "changing-greensboro"
      },
      "outputs": [],
      "source": [
        "%config Completer.use_jedi=False"
      ]
    },
    {
      "cell_type": "code",
      "execution_count": 1,
      "id": "banner-thanks",
      "metadata": {
        "id": "banner-thanks"
      },
      "outputs": [],
      "source": [
        "import numpy as np\n",
        "import matplotlib.pyplot as plt\n",
        "import pandas as pd\n",
        "import random"
      ]
    },
    {
      "cell_type": "code",
      "execution_count": 2,
      "id": "underlying-province",
      "metadata": {
        "id": "underlying-province"
      },
      "outputs": [],
      "source": [
        "#function of one variable first\n",
        "eps = np.random.normal(loc=0.0,scale=5,size=50)\n",
        "x = np.arange(start=-5,stop=5,step=0.2)\n",
        "y = 2 + 3*x + eps\n",
        "y1 = 2 + 3*x"
      ]
    },
    {
      "cell_type": "code",
      "execution_count": 3,
      "id": "b09e4a31-09f5-4689-8ec9-22e5631d0c94",
      "metadata": {
        "id": "b09e4a31-09f5-4689-8ec9-22e5631d0c94"
      },
      "outputs": [],
      "source": [
        "df = pd.DataFrame(zip(x,y),columns=['x','y'])"
      ]
    },
    {
      "cell_type": "code",
      "execution_count": 4,
      "id": "56b89916-739d-42b0-a259-9fdd4d2ffabd",
      "metadata": {
        "colab": {
          "base_uri": "https://localhost:8080/",
          "height": 206
        },
        "id": "56b89916-739d-42b0-a259-9fdd4d2ffabd",
        "jupyter": {
          "outputs_hidden": true
        },
        "outputId": "8479d276-302a-44a0-aa4b-3a9921e66755",
        "tags": []
      },
      "outputs": [
        {
          "data": {
            "text/html": [
              "<div>\n",
              "<style scoped>\n",
              "    .dataframe tbody tr th:only-of-type {\n",
              "        vertical-align: middle;\n",
              "    }\n",
              "\n",
              "    .dataframe tbody tr th {\n",
              "        vertical-align: top;\n",
              "    }\n",
              "\n",
              "    .dataframe thead th {\n",
              "        text-align: right;\n",
              "    }\n",
              "</style>\n",
              "<table border=\"1\" class=\"dataframe\">\n",
              "  <thead>\n",
              "    <tr style=\"text-align: right;\">\n",
              "      <th></th>\n",
              "      <th>x</th>\n",
              "      <th>y</th>\n",
              "    </tr>\n",
              "  </thead>\n",
              "  <tbody>\n",
              "    <tr>\n",
              "      <th>0</th>\n",
              "      <td>-5.0</td>\n",
              "      <td>-3.683368</td>\n",
              "    </tr>\n",
              "    <tr>\n",
              "      <th>1</th>\n",
              "      <td>-4.8</td>\n",
              "      <td>-14.141329</td>\n",
              "    </tr>\n",
              "    <tr>\n",
              "      <th>2</th>\n",
              "      <td>-4.6</td>\n",
              "      <td>-3.498833</td>\n",
              "    </tr>\n",
              "    <tr>\n",
              "      <th>3</th>\n",
              "      <td>-4.4</td>\n",
              "      <td>-9.841702</td>\n",
              "    </tr>\n",
              "    <tr>\n",
              "      <th>4</th>\n",
              "      <td>-4.2</td>\n",
              "      <td>-11.679784</td>\n",
              "    </tr>\n",
              "  </tbody>\n",
              "</table>\n",
              "</div>"
            ],
            "text/plain": [
              "     x          y\n",
              "0 -5.0  -3.683368\n",
              "1 -4.8 -14.141329\n",
              "2 -4.6  -3.498833\n",
              "3 -4.4  -9.841702\n",
              "4 -4.2 -11.679784"
            ]
          },
          "execution_count": 4,
          "metadata": {},
          "output_type": "execute_result"
        }
      ],
      "source": [
        "df.head(5)"
      ]
    },
    {
      "cell_type": "code",
      "execution_count": 5,
      "id": "deluxe-programmer",
      "metadata": {
        "colab": {
          "base_uri": "https://localhost:8080/",
          "height": 368
        },
        "id": "deluxe-programmer",
        "outputId": "f089df43-0488-4a66-abcd-f909d6205553"
      },
      "outputs": [
        {
          "data": {
            "image/png": "[encoded data removed]",
            "text/plain": [
              "<Figure size 600x400 with 1 Axes>"
            ]
          },
          "metadata": {},
          "output_type": "display_data"
        }
      ],
      "source": [
        "plt.figure(figsize=(6,4))\n",
        "plt.scatter(x,y,label='data',s=8,c='blue')\n",
        "# plt.plot(x,y1,c='red',label='True y')\n",
        "plt.xlabel='x'\n",
        "plt.ylabel='y'\n",
        "plt.legend()\n",
        "plt.show()"
      ]
    },
    {
      "cell_type": "code",
      "execution_count": 6,
      "id": "fd2fc4c1-7d8c-4771-b5d5-c3b063614e57",
      "metadata": {
        "colab": {
          "base_uri": "https://localhost:8080/",
          "height": 368
        },
        "id": "fd2fc4c1-7d8c-4771-b5d5-c3b063614e57",
        "outputId": "f8b976d2-33fb-4f04-8d88-f6659e27bdc8"
      },
      "outputs": [
        {
          "data": {
            "image/png": "[encoded data removed]",
            "text/plain": [
              "<Figure size 600x400 with 1 Axes>"
            ]
          },
          "metadata": {},
          "output_type": "display_data"
        }
      ],
      "source": [
        "plt.figure(figsize=(6,4))\n",
        "plt.scatter(x,y,label='data',s=8,c='blue')\n",
        "plt.plot(x,y1,c='red',label='$ \\hat{y}$')\n",
        "plt.xlabel='x'\n",
        "plt.ylabel='y'\n",
        "plt.legend()\n",
        "plt.show()"
      ]
    },
    {
      "cell_type": "markdown",
      "id": "tamil-strain",
      "metadata": {
        "id": "tamil-strain"
      },
      "source": [
        "# Let's fit the data using Linear regression <br>\n",
        "# $\\hat{y} = \\hat{\\theta}_0 + \\hat{\\theta}_1 x$ <br>\n",
        "\n",
        "# $\\hat{\\theta}_1 = \\frac{\\sum_{i}^{n} (x_i-\\overline{x})(y_i - \\overline{y})}{\\sum_{i}^n(x_i - \\overline{x})^2 }$ or  $\\hat{\\theta}_1 = \\frac{\\overline{xy} - (\\overline{x})(\\overline{y})} {\\overline{x^2} - (\\overline{x})^2}$ <br>\n",
        "# $\\hat{\\theta}_0 = \\overline{y} - \\hat{\\beta}_1 \\overline{x}$ or $\\hat{\\theta}_0 = \\frac{(\\overline{x^2})(\\overline{y}) - (\\overline{x})(\\overline{xy})}{\\overline{x^2} - (\\overline{x})^2}$<br>\n"
      ]
    },
    {
      "cell_type": "code",
      "execution_count": 7,
      "id": "opposed-eating",
      "metadata": {
        "id": "opposed-eating"
      },
      "outputs": [],
      "source": [
        "xav = np.average(x)\n",
        "yav = np.average(y)\n",
        "\n",
        "beta1 = np.sum((x - xav)*(y-yav))/np.sum((x-xav)*(x-xav))\n",
        "beta0 = np.sum(yav-beta1*xav)"
      ]
    },
    {
      "cell_type": "code",
      "execution_count": 8,
      "id": "structural-forwarding",
      "metadata": {
        "id": "structural-forwarding",
        "outputId": "f1eb10d4-ce7f-41f7-a5f5-2bff3023ef2c"
      },
      "outputs": [
        {
          "data": {
            "text/plain": [
              "(2.4909887886687434, 2.828999236146001)"
            ]
          },
          "execution_count": 8,
          "metadata": {},
          "output_type": "execute_result"
        }
      ],
      "source": [
        "beta0, beta1 #expected 2 and 3"
      ]
    },
    {
      "cell_type": "code",
      "execution_count": 9,
      "id": "objective-history",
      "metadata": {
        "id": "objective-history"
      },
      "outputs": [],
      "source": [
        "y_hat = beta0 + beta1*x"
      ]
    },
    {
      "cell_type": "code",
      "execution_count": 10,
      "id": "ready-making",
      "metadata": {
        "id": "ready-making",
        "outputId": "7af53850-c228-490a-a394-a741408b4272"
      },
      "outputs": [
        {
          "data": {
            "image/png": "[encoded data removed]",
            "text/plain": [
              "<Figure size 600x400 with 1 Axes>"
            ]
          },
          "metadata": {},
          "output_type": "display_data"
        }
      ],
      "source": [
        "plt.figure(figsize=(6,4))\n",
        "plt.scatter(x,y,label='data',s=8,c='blue')\n",
        "plt.plot(x,y1,c='red',label='True $\\hat{y}$')\n",
        "plt.plot(x,y_hat,c='green',label='estimated $\\hat{y}$')\n",
        "plt.xlabel='x'\n",
        "plt.ylabel='y'\n",
        "plt.legend()\n",
        "plt.show()"
      ]
    },
    {
      "cell_type": "markdown",
      "id": "9e18fc80",
      "metadata": {
        "id": "9e18fc80"
      },
      "source": [
        "Linear Regression Goodness of Fit\n",
        "====\n",
        "\n",
        "There are a few ways of measuring goodness of fit. One way is to just compute the SSR, the sum of the squared residuals. However, this has the negative that the units of $y$ appear in the goodness of fit. Here is what people typically use, the coefficient of determination:\n",
        "\n",
        "$$R^2 = 1 - \\frac{\\textrm{SSR}}{\\textrm{TSS}} = 1 - \\frac{\\sum_i \\left(y - \\hat{y}_i\\right)^2}{\\sum_i \\left(y - \\bar{y}\\right)^2}$$\n",
        "\n",
        "This equation has the property that it's unitless, it's $1$ when the fit is perfect, and $0$ when the fit is awful. In the case of linear regression, $R$ is the same as the correlation coefficient."
      ]
    },
    {
      "cell_type": "markdown",
      "id": "3db69cf8-004a-40f5-904e-e7d19f64e356",
      "metadata": {
        "id": "3db69cf8-004a-40f5-904e-e7d19f64e356"
      },
      "source": [
        "#### Calculate $R^2$"
      ]
    },
    {
      "cell_type": "code",
      "execution_count": 11,
      "id": "f81c922d",
      "metadata": {
        "id": "f81c922d"
      },
      "outputs": [],
      "source": [
        "def r_sq(x,y,y_fit):\n",
        "    yav = np.mean(y)\n",
        "    rss = (y-y_fit).dot(y-y_fit)\n",
        "    tss = (y-yav).dot(y-yav)\n",
        "    return (1 - rss / tss)"
      ]
    },
    {
      "cell_type": "code",
      "execution_count": 12,
      "id": "d8e7cc98",
      "metadata": {
        "id": "d8e7cc98",
        "outputId": "e0b05fd9-9b8f-43ea-f71a-16a684acbdaf"
      },
      "outputs": [
        {
          "name": "stdout",
          "output_type": "stream",
          "text": [
            "$R^2$ for true y is 0.670973608195521\n",
            "$R^2$ for fit is 0.6760616323061246\n",
            "The value of R = 0.8222296712635251, corr coeff = [[1.         0.82222967]\n",
            " [0.82222967 1.        ]]\n"
          ]
        }
      ],
      "source": [
        "rsq = r_sq(x,y,y1)\n",
        "print(f'$R^2$ for true y is {rsq}')\n",
        "\n",
        "rss = (y-y_hat).dot(y-y_hat)\n",
        "tss = (y-yav).dot(y-yav)\n",
        "rsq = 1 - rss / tss\n",
        "\n",
        "print(f'$R^2$ for fit is {rsq}')\n",
        "print(f'The value of R = {np.sqrt(rsq)}, corr coeff = {np.corrcoef(x,y)}')"
      ]
    }
  ],
  "metadata": {
    "colab": {
      "provenance": []
    },
    "kernelspec": {
      "display_name": "Python 3 (ipykernel)",
      "language": "python",
      "name": "python3"
    },
    "language_info": {
      "codemirror_mode": {
        "name": "ipython",
        "version": 3
      },
      "file_extension": ".py",
      "mimetype": "text/x-python",
      "name": "python",
      "nbconvert_exporter": "python",
      "pygments_lexer": "ipython3",
      "version": "3.11.5"
    }
  },
  "nbformat": 4,
  "nbformat_minor": 5
}
